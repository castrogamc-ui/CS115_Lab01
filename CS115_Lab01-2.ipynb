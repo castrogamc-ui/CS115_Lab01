{
  "nbformat": 4,
  "nbformat_minor": 5,
  "metadata": {
    "colab": {
      "provenance": []
    },
    "kernelspec": {
      "name": "python3",
      "language": "python",
      "display_name": "Python 3"
    },
    "language_info": {
      "name": "python",
      "version": "3"
    }
  },
  "cells": [
    {
      "cell_type": "markdown",
      "metadata": {
        "id": "oUc6rZ8uK_v7"
      },
      "source": [
        "# CS 115 — Lab 01: Welcome to Programming with Colab\n",
        "Sonoma State University • Computer Science • Fall 2025  \n",
        "**Sections:** 001 / 002 / 003  \n",
        "**Instructor:** Andrew Bond (andrew.bond@sonoma.edu)\n",
        "\n",
        "This lab happens **before our first class session**. You don’t need any programming background! Today we’ll just:\n",
        "- Learn how to open and run a Colab notebook\n",
        "- Write your first Python commands\n",
        "- Add a short Markdown reflection\n",
        "\n",
        "**What to turn in:** Upload your completed notebook to Canvas at the end.\n"
      ],
      "id": "oUc6rZ8uK_v7"
    },
    {
      "cell_type": "markdown",
      "metadata": {
        "id": "9o91McmiK_wA"
      },
      "source": [
        "## Warm-up (1 pt)\n",
        "Run the cell below. It should print today’s date and your Python version."
      ],
      "id": "9o91McmiK_wA"
    },
    {
      "cell_type": "code",
      "source": [
        "import sys, datetime\n",
        "print(\"Python:\", sys.version.split()[0])\n",
        "print(\"Today:\", datetime.date.today().isoformat())"
      ],
      "metadata": {
        "colab": {
          "base_uri": "https://localhost:8080/"
        },
        "id": "SRu96y9iLbz8",
        "outputId": "55f556d1-d2f0-4147-d9b2-7f074f685073"
      },
      "id": "SRu96y9iLbz8",
      "execution_count": 3,
      "outputs": [
        {
          "output_type": "stream",
          "name": "stdout",
          "text": [
            "Python: 3.12.11\n",
            "Today: 2025-08-19\n"
          ]
        }
      ]
    },
    {
      "cell_type": "markdown",
      "metadata": {
        "id": "9bOsSErkK_wB"
      },
      "source": [
        "## Q1: Print your name (1 pt)\n",
        "Use the `print()` function to say hello with your name.\n",
        "\n",
        "**Example**:\n",
        "```python\n",
        "print(\"Hello, my name is Ada\")\n",
        "```"
      ],
      "id": "9bOsSErkK_wB"
    },
    {
      "cell_type": "code",
      "source": [
        "print(\"Hello, my name is Cristian\")"
      ],
      "metadata": {
        "colab": {
          "base_uri": "https://localhost:8080/"
        },
        "id": "NGOANDuyLQ1Z",
        "outputId": "58422364-d606-4b9c-b0f4-dca89df881dc"
      },
      "id": "NGOANDuyLQ1Z",
      "execution_count": 5,
      "outputs": [
        {
          "output_type": "stream",
          "name": "stdout",
          "text": [
            "Hello, my name is Cristian\n"
          ]
        }
      ]
    },
    {
      "cell_type": "code",
      "metadata": {
        "id": "q1"
      },
      "execution_count": null,
      "outputs": [],
      "source": [
        "# TODO: Change this to your own name\n",
        "print(\"Hello, my name is YOUR_NAME_HERE\")"
      ],
      "id": "q1"
    },
    {
      "cell_type": "markdown",
      "metadata": {
        "id": "-SF9adr3K_wC"
      },
      "source": [
        "## Q2: Print some math (1 pt)\n",
        "Try using Python as a calculator. Print the answers to a few math problems.\n",
        "\n",
        "**Examples**:\n",
        "```python\n",
        "print(2 + 3)\n",
        "print(10 - 4)\n",
        "print(7 * 6)\n",
        "```"
      ],
      "id": "-SF9adr3K_wC"
    },
    {
      "cell_type": "code",
      "source": [
        "print (17 + 3)\n",
        "print (13 - 5)\n",
        "print (2 + 7)"
      ],
      "metadata": {
        "colab": {
          "base_uri": "https://localhost:8080/"
        },
        "id": "JoyfEUM4LoEh",
        "outputId": "6ff8965d-574e-416f-dcca-6286db64c24c"
      },
      "id": "JoyfEUM4LoEh",
      "execution_count": 6,
      "outputs": [
        {
          "output_type": "stream",
          "name": "stdout",
          "text": [
            "20\n",
            "8\n",
            "9\n"
          ]
        }
      ]
    },
    {
      "cell_type": "code",
      "metadata": {
        "id": "q2"
      },
      "execution_count": null,
      "outputs": [],
      "source": [
        "# TODO: Add your own math expressions\n",
        "print(2 + 3)\n",
        "print(10 - 4)\n",
        "print(7 * 6)"
      ],
      "id": "q2"
    },
    {
      "cell_type": "markdown",
      "metadata": {
        "id": "p9ZjgIKoK_wC"
      },
      "source": [
        "## Q3: Add some Markdown text (1 pt)\n",
        "Add a **Text cell** (instead of Code). Type something like:\n",
        "\n",
        "- This is my first lab in CS115!\n",
        "- I’m excited to learn Python.\n",
        "\n",
        "Try bold (**word**), italics (*word*), or a list.\n"
      ],
      "id": "p9ZjgIKoK_wC"
    },
    {
      "cell_type": "markdown",
      "source": [
        "\n",
        "\n",
        "*   This is my first lab in **CS115**!\n",
        "*   I'm excited to learn *Python*.\n",
        "\n"
      ],
      "metadata": {
        "id": "Jbk6y39bL5ma"
      },
      "id": "Jbk6y39bL5ma"
    },
    {
      "cell_type": "markdown",
      "metadata": {
        "id": "4sKTAqWmK_wC"
      },
      "source": [
        "## Q4: Reflection (1 pt)\n",
        "Answer in a Text/Markdown cell:\n",
        "1. One thing I learned today:\n",
        "2. One question I still have:\n",
        "3. (If applicable) **AI usage note**: Did you use any AI tool? If so, what did you ask and how did you use the answer?\n"
      ],
      "id": "4sKTAqWmK_wC"
    },
    {
      "cell_type": "markdown",
      "source": [
        "\n",
        "\n",
        "1.   One thing I learned today is how to make Python commands using text and code cells.\n",
        "2.   One question I still have is about what other variations of codes will I'll be able to make.\n",
        "\n"
      ],
      "metadata": {
        "id": "dxlMbBppMf8M"
      },
      "id": "dxlMbBppMf8M"
    },
    {
      "cell_type": "markdown",
      "metadata": {
        "id": "hwhRnR45K_wD"
      },
      "source": [
        "## Stretch (optional, ungraded)\n",
        "Edit this program to say something fun about you.\n"
      ],
      "id": "hwhRnR45K_wD"
    },
    {
      "cell_type": "code",
      "metadata": {
        "id": "stretch",
        "colab": {
          "base_uri": "https://localhost:8080/"
        },
        "outputId": "054b8a54-5182-4bdf-cbe8-9c92d7ee55be"
      },
      "execution_count": 7,
      "outputs": [
        {
          "output_type": "stream",
          "name": "stdout",
          "text": [
            "I am better at making chicken than beef.\n",
            "186\n"
          ]
        }
      ],
      "source": [
        "print(\"I am better at making chicken than beef.\")\n",
        "print(42 + 144)"
      ],
      "id": "stretch"
    },
    {
      "cell_type": "markdown",
      "metadata": {
        "id": "qU4RkxSWK_wD"
      },
      "source": [
        "_Last updated: August 19, 2025_"
      ],
      "id": "qU4RkxSWK_wD"
    }
  ]
}