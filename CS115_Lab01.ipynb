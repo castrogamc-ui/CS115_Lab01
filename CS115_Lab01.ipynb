{
  "nbformat": 4,
  "nbformat_minor": 5,
  "metadata": {
    "colab": {
      "provenance": []
    },
    "kernelspec": {
      "name": "python3",
      "language": "python",
      "display_name": "Python 3"
    },
    "language_info": {
      "name": "python",
      "version": "3"
    }
  },
  "cells": [
    {
      "cell_type": "markdown",
      "metadata": {},
      "source": [
        "# CS 115 — Lab 01: Welcome to Programming with Colab\n",
        "Sonoma State University • Computer Science • Fall 2025  \n",
        "**Sections:** 001 / 002 / 003  \n",
        "**Instructor:** Andrew Bond (andrew.bond@sonoma.edu)\n\n",
        "This lab happens **before our first class session**. You don’t need any programming background! Today we’ll just:\n",
        "- Learn how to open and run a Colab notebook\n",
        "- Write your first Python commands\n",
        "- Add a short Markdown reflection\n",
        "\n",
        "**What to turn in:** Upload your completed notebook to Canvas at the end.\n"
      ]
    },
    {
      "cell_type": "markdown",
      "metadata": {},
      "source": [
        "## Warm-up (1 pt)\nRun the cell below. It should print today’s date and your Python version."
      ]
    },
    {
      "cell_type": "code",
      "metadata": {
        "id": "warmup"
      },
      "execution_count": 0,
      "outputs": [],
      "source": [
        "import sys, datetime\n",
        "print(\"Python:\", sys.version.split()[0])\n",
        "print(\"Today:\", datetime.date.today().isoformat())"
      ]
    },
    {
      "cell_type": "markdown",
      "metadata": {},
      "source": [
        "## Q1: Print your name (1 pt)\nUse the `print()` function to say hello with your name.\n\n**Example**:\n```python\nprint(\"Hello, my name is Ada\")\n```"
      ]
    },
    {
      "cell_type": "code",
      "metadata": {
        "id": "q1"
      },
      "execution_count": 0,
      "outputs": [],
      "source": [
        "# TODO: Change this to your own name\nprint(\"Hello, my name is YOUR_NAME_HERE\")"
      ]
    },
    {
      "cell_type": "markdown",
      "metadata": {},
      "source": [
        "## Q2: Print some math (1 pt)\nTry using Python as a calculator. Print the answers to a few math problems.\n\n**Examples**:\n```python\nprint(2 + 3)\nprint(10 - 4)\nprint(7 * 6)\n```"
      ]
    },
    {
      "cell_type": "code",
      "metadata": {
        "id": "q2"
      },
      "execution_count": 0,
      "outputs": [],
      "source": [
        "# TODO: Add your own math expressions\nprint(2 + 3)\nprint(10 - 4)\nprint(7 * 6)"
      ]
    },
    {
      "cell_type": "markdown",
      "metadata": {},
      "source": [
        "## Q3: Add some Markdown text (1 pt)\nAdd a **Text cell** (instead of Code). Type something like:\n\n- This is my first lab in CS115!\n- I’m excited to learn Python.\n\nTry bold (**word**), italics (*word*), or a list.\n"
      ]
    },
    {
      "cell_type": "markdown",
      "metadata": {},
      "source": [
        "## Q4: Reflection (1 pt)\nAnswer in a Text/Markdown cell:\n1. One thing I learned today:\n2. One question I still have:\n3. (If applicable) **AI usage note**: Did you use any AI tool? If so, what did you ask and how did you use the answer?\n"
      ]
    },
    {
      "cell_type": "markdown",
      "metadata": {},
      "source": [
        "## Stretch (optional, ungraded)\nEdit this program to say something fun about you.\n"
      ]
    },
    {
      "cell_type": "code",
      "metadata": {
        "id": "stretch"
      },
      "execution_count": 0,
      "outputs": [],
      "source": [
        "print(\"Hello, world!\")\nprint(\"Welcome to CS115!\")"
      ]
    },
    {
      "cell_type": "markdown",
      "metadata": {},
      "source": [
        "_Last updated: August 19, 2025_"
      ]
    }
  ]
}